{
 "cells": [
  {
   "cell_type": "code",
   "execution_count": null,
   "metadata": {},
   "outputs": [],
   "source": [
    "# This notebook looks at the Galileo timing parameters (GAUT and GAGP)\n",
    "# as derived from the navigation daily rinex files\n",
    "#\n",
    "# Octavian Andrei, 2021"
   ]
  },
  {
   "cell_type": "code",
   "execution_count": null,
   "metadata": {},
   "outputs": [],
   "source": [
    "import numpy as np\n",
    "import pandas as pd\n",
    "import matplotlib.pyplot as plt\n"
   ]
  },
  {
   "cell_type": "code",
   "execution_count": null,
   "metadata": {},
   "outputs": [],
   "source": [
    "# import matplotlib\n",
    "# matplotlib.rcdefaults()"
   ]
  },
  {
   "cell_type": "code",
   "execution_count": null,
   "metadata": {},
   "outputs": [],
   "source": [
    "# helper functions\n",
    "def parse_line(line):\n",
    "    # split into time and header strings\n",
    "    t, hdr = line.values[0][:11], line.values[0][12:]\n",
    "    \n",
    "    # time comes from the navigation daily file\n",
    "    t = pd.to_datetime(t, format='%Y%j%H%M')\n",
    "    \n",
    "    # TIME SYSTEM CORR label\n",
    "    # See Table 5, A21, Rinex v3.04\n",
    "    typ = hdr[:4]\n",
    "    a0 = float(hdr[5:22].upper().replace('D','E'))\n",
    "    a1 = float(hdr[22:38].upper().replace('D','E'))\n",
    "    T = int(hdr[39:45])\n",
    "    W = int(hdr[46:50])\n",
    "    S = hdr[51:56].strip()\n",
    "    U = int(hdr[57:59])\n",
    "    \n",
    "    return pd.Series([typ, t, a0, a1, T, W, S, U ])\n",
    "\n",
    "def to_gpst(line: pd.Series):\n",
    "    \"\"\"Valid only if type is 'GPUT', 'GAUT', 'QZUT', 'IRUT', 'SBUT'\n",
    "    \"\"\"\n",
    "    gw,sow = line[['W', 'T']]\n",
    "    sec = gw * 7 * 86400 + sow\n",
    "    ret = pd.Timestamp('1980-01-06') + pd.Timedelta(sec, unit='sec')\n",
    "    \n",
    "    return ret\n",
    "\n",
    "cols = ['TYPE', 'FTIME', 'A0', 'A1', 'T', 'W', 'S', 'U']"
   ]
  },
  {
   "cell_type": "code",
   "execution_count": null,
   "metadata": {},
   "outputs": [],
   "source": [
    "# read input data into a dataframe\n",
    "fin = '../data/gal_time.gz'\n",
    "file_content = pd.read_csv(fin, header=None)\n",
    "df = file_content.apply(parse_line, axis=1)\n",
    "df = df.rename(columns={i:elem for i, elem in enumerate(cols)})\n",
    "df['REF_EPOCH'] = df.apply(to_gpst, axis=1)\n",
    "df"
   ]
  },
  {
   "cell_type": "code",
   "execution_count": null,
   "metadata": {},
   "outputs": [],
   "source": []
  },
  {
   "cell_type": "code",
   "execution_count": null,
   "metadata": {},
   "outputs": [],
   "source": []
  },
  {
   "cell_type": "markdown",
   "metadata": {},
   "source": [
    "# GAL UTC Time Determination"
   ]
  },
  {
   "cell_type": "code",
   "execution_count": null,
   "metadata": {},
   "outputs": [],
   "source": [
    "has_gaut = df['TYPE'] == 'GAUT'\n",
    "is_larger_than_a_week = df['T'] > 86400*7\n",
    "is_after_20161201 = df['REF_EPOCH'] >= pd.Timestamp('2016-11-30')\n",
    "\n",
    "mask = has_gaut & ~is_larger_than_a_week & is_after_20161201\n",
    "GAUT = df[mask].copy()"
   ]
  },
  {
   "cell_type": "code",
   "execution_count": null,
   "metadata": {},
   "outputs": [],
   "source": [
    "GAUT['A0'].describe()"
   ]
  },
  {
   "cell_type": "code",
   "execution_count": null,
   "metadata": {},
   "outputs": [],
   "source": [
    "# SDD, Table 18\n",
    "is_within_mpl = abs(GAUT['A0']) <= 31e-9\n",
    "GAUT.loc[:,'MPL'] = is_within_mpl"
   ]
  },
  {
   "cell_type": "code",
   "execution_count": null,
   "metadata": {
    "scrolled": false
   },
   "outputs": [],
   "source": [
    "fig, ax = plt.subplots(figsize=(12,5))\n",
    "\n",
    "GAUT[GAUT.MPL==True].plot(ax=ax, x='REF_EPOCH', y='A0', color='green', label='<=31ns', marker='+', ls='None')\n",
    "GAUT[GAUT.MPL==False].plot(ax=ax, x='REF_EPOCH', y='A0', color='red', label='>31ns', marker='.', ls='None')\n",
    "\n",
    "ax.set_ylabel('A0 (sec)');"
   ]
  },
  {
   "cell_type": "code",
   "execution_count": null,
   "metadata": {},
   "outputs": [],
   "source": []
  },
  {
   "cell_type": "code",
   "execution_count": null,
   "metadata": {},
   "outputs": [],
   "source": []
  },
  {
   "cell_type": "markdown",
   "metadata": {},
   "source": [
    "# Galileo - GPS Time Offset (GGTO)"
   ]
  },
  {
   "cell_type": "code",
   "execution_count": null,
   "metadata": {},
   "outputs": [],
   "source": [
    "# select and clean the data\n",
    "has_ggot = df['TYPE'] == 'GPGA'\n",
    "is_larger_than_a_week = df['T'] > 86400*7\n",
    "is_after_20161201 = df['REF_EPOCH'] >= pd.Timestamp('2016-11-30')\n",
    "\n",
    "mask = has_ggot & ~is_larger_than_a_week & is_after_20161201\n",
    "GGOT = df[mask].copy()"
   ]
  },
  {
   "cell_type": "code",
   "execution_count": null,
   "metadata": {},
   "outputs": [],
   "source": [
    "# SDD, Table 19\n",
    "is_within_mpl = abs(GGOT['A0']) <= 20e-9\n",
    "GGOT.loc[:,'MPL'] = is_within_mpl"
   ]
  },
  {
   "cell_type": "code",
   "execution_count": null,
   "metadata": {},
   "outputs": [],
   "source": [
    "fig, ax = plt.subplots(figsize=(12,5))\n",
    "\n",
    "GGOT[GGOT.MPL==True].plot(ax=ax, x='REF_EPOCH', y='A0', color='green', label='<=20ns', marker='+', ls='None')\n",
    "GGOT[GGOT.MPL==False].plot(ax=ax, x='REF_EPOCH', y='A0', color='red', label='>20ns', marker='.', ls='None')\n",
    "\n",
    "ax.set_ylabel('A0 (sec)');"
   ]
  },
  {
   "cell_type": "code",
   "execution_count": null,
   "metadata": {},
   "outputs": [],
   "source": []
  },
  {
   "cell_type": "code",
   "execution_count": null,
   "metadata": {},
   "outputs": [],
   "source": []
  },
  {
   "cell_type": "code",
   "execution_count": null,
   "metadata": {},
   "outputs": [],
   "source": []
  },
  {
   "cell_type": "code",
   "execution_count": null,
   "metadata": {},
   "outputs": [],
   "source": []
  }
 ],
 "metadata": {
  "kernelspec": {
   "display_name": "Python 3",
   "language": "python",
   "name": "python3"
  },
  "language_info": {
   "codemirror_mode": {
    "name": "ipython",
    "version": 3
   },
   "file_extension": ".py",
   "mimetype": "text/x-python",
   "name": "python",
   "nbconvert_exporter": "python",
   "pygments_lexer": "ipython3",
   "version": "3.8.5"
  }
 },
 "nbformat": 4,
 "nbformat_minor": 4
}
