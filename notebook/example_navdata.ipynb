{
 "cells": [
  {
   "cell_type": "code",
   "execution_count": null,
   "metadata": {},
   "outputs": [],
   "source": [
    "import pandas as pd\n",
    "import matplotlib.pyplot as plt\n",
    "\n",
    "from reasonlib import readRnxNavFile"
   ]
  },
  {
   "cell_type": "code",
   "execution_count": null,
   "metadata": {},
   "outputs": [],
   "source": [
    "pd.__version__"
   ]
  },
  {
   "cell_type": "code",
   "execution_count": null,
   "metadata": {},
   "outputs": [],
   "source": [
    "import matplotlib \n",
    "matplotlib.__version__"
   ]
  },
  {
   "cell_type": "code",
   "execution_count": null,
   "metadata": {},
   "outputs": [],
   "source": [
    "# rinex data\n",
    "url = 'https://igs.bkg.bund.de/root_ftp/IGS/BRDC/2020/121/BRDM00DLR_S_20201210000_01D_MN.rnx.gz'\n",
    "fin=url.split('/')[-1].split('?')[0]\n",
    "\n",
    "# import urllib\n",
    "# urllib.request.urlretrieve(url, fin)"
   ]
  },
  {
   "cell_type": "code",
   "execution_count": null,
   "metadata": {},
   "outputs": [],
   "source": [
    "# parse header and data\n",
    "fin = '../data/BRDM00DLR_S_20201210000_01D_MN.rnx.gz'\n",
    "h,d = readRnxNavFile(fin)\n"
   ]
  },
  {
   "cell_type": "code",
   "execution_count": null,
   "metadata": {},
   "outputs": [],
   "source": [
    "#header\n",
    "h"
   ]
  },
  {
   "cell_type": "code",
   "execution_count": null,
   "metadata": {},
   "outputs": [],
   "source": [
    "len(d)"
   ]
  },
  {
   "cell_type": "code",
   "execution_count": null,
   "metadata": {},
   "outputs": [],
   "source": [
    "# data frame\n",
    "df = pd.DataFrame(d)\n",
    "df.shape"
   ]
  },
  {
   "cell_type": "code",
   "execution_count": null,
   "metadata": {},
   "outputs": [],
   "source": [
    "# number of satellites\n",
    "len(df[0].unique())"
   ]
  },
  {
   "cell_type": "code",
   "execution_count": null,
   "metadata": {},
   "outputs": [],
   "source": [
    "# list of satellites\n",
    "df[0].unique()"
   ]
  },
  {
   "cell_type": "code",
   "execution_count": null,
   "metadata": {},
   "outputs": [],
   "source": [
    "# number of messages\n",
    "df.groupby(df[0].str[0]).count().T"
   ]
  },
  {
   "cell_type": "code",
   "execution_count": null,
   "metadata": {},
   "outputs": [],
   "source": [
    "# all constellation messages\n",
    "hasGal = df[0].str[0] == 'E'\n",
    "df[hasGal].head().T"
   ]
  },
  {
   "cell_type": "code",
   "execution_count": null,
   "metadata": {},
   "outputs": [],
   "source": [
    "# all messages for one satellites\n",
    "hasSat = df[0] == 'E01'\n",
    "df[hasSat].head().T"
   ]
  },
  {
   "cell_type": "code",
   "execution_count": null,
   "metadata": {},
   "outputs": [],
   "source": [
    "# sources\n",
    "df[hasSat].groupby(27).count()"
   ]
  },
  {
   "cell_type": "code",
   "execution_count": null,
   "metadata": {},
   "outputs": [],
   "source": []
  },
  {
   "cell_type": "code",
   "execution_count": null,
   "metadata": {},
   "outputs": [],
   "source": []
  },
  {
   "cell_type": "code",
   "execution_count": null,
   "metadata": {},
   "outputs": [],
   "source": [
    "# plot clock bias for one galileo satellite using F/NAV nav data\n",
    "has_sat = df[0] == 'E01'\n",
    "has_source = df[27] == 258\n",
    "m = has_sat & has_source\n",
    "A = df[m]\n",
    "\n",
    "cols = ['year', 'month', 'day', 'hour', 'minute', 'second']\n",
    "cols = {k+1:v for k,v in enumerate(cols)}\n",
    "\n",
    "x = pd.to_datetime(A.loc[:,1:6].rename(columns=cols))\n",
    "y = A.loc[:,7]*1e+6 #us\n",
    "\n",
    "plt.plot(x,y,'+b')"
   ]
  },
  {
   "cell_type": "code",
   "execution_count": null,
   "metadata": {},
   "outputs": [],
   "source": []
  },
  {
   "cell_type": "code",
   "execution_count": null,
   "metadata": {},
   "outputs": [],
   "source": []
  },
  {
   "cell_type": "code",
   "execution_count": null,
   "metadata": {},
   "outputs": [],
   "source": [
    "# plot BGD for one galileo satellite as derived from I/NAV data\n",
    "has_sat = df[0] == 'E01'\n",
    "has_source = df[27] == 517\n",
    "m = has_sat & has_source\n",
    "A = df[m]\n",
    "\n",
    "cols = ['year', 'month', 'day', 'hour', 'minute', 'second']\n",
    "cols = {k+1:v for k,v in enumerate(cols)}\n",
    "\n",
    "x = pd.to_datetime(A.loc[:,1:6].rename(columns=cols))\n",
    "y = A.loc[:,32]\n",
    "\n",
    "plt.plot(x,y,'+b', label='bdge5a')\n",
    "y = A.loc[:,33]\n",
    "plt.plot(x,y,'.r', label='bdge5b')\n",
    "plt.legend()"
   ]
  },
  {
   "cell_type": "code",
   "execution_count": null,
   "metadata": {},
   "outputs": [],
   "source": []
  },
  {
   "cell_type": "code",
   "execution_count": null,
   "metadata": {},
   "outputs": [],
   "source": []
  },
  {
   "cell_type": "code",
   "execution_count": null,
   "metadata": {},
   "outputs": [],
   "source": [
    "# plot clock bias for one gps satellite\n",
    "has_sat = df[0] == 'G01'\n",
    "\n",
    "m = has_sat\n",
    "A = df[m]\n",
    "\n",
    "cols = ['year', 'month', 'day', 'hour', 'minute', 'second']\n",
    "cols = {k+1:v for k,v in enumerate(cols)}\n",
    "\n",
    "x = pd.to_datetime(A.loc[:,1:6].rename(columns=cols))\n",
    "y = A.loc[:,7]*1e+6 #us\n",
    "\n",
    "plt.plot(x,y,'+b')"
   ]
  },
  {
   "cell_type": "code",
   "execution_count": null,
   "metadata": {},
   "outputs": [],
   "source": []
  },
  {
   "cell_type": "code",
   "execution_count": null,
   "metadata": {},
   "outputs": [],
   "source": []
  },
  {
   "cell_type": "code",
   "execution_count": null,
   "metadata": {},
   "outputs": [],
   "source": []
  }
 ],
 "metadata": {
  "kernelspec": {
   "display_name": "Python 3",
   "language": "python",
   "name": "python3"
  },
  "language_info": {
   "codemirror_mode": {
    "name": "ipython",
    "version": 3
   },
   "file_extension": ".py",
   "mimetype": "text/x-python",
   "name": "python",
   "nbconvert_exporter": "python",
   "pygments_lexer": "ipython3",
   "version": "3.8.5"
  }
 },
 "nbformat": 4,
 "nbformat_minor": 4
}
